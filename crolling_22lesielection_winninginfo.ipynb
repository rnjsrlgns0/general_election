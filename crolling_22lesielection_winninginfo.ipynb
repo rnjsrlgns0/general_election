{
 "cells": [
  {
   "cell_type": "markdown",
   "metadata": {},
   "source": [
    "## 선관위의 개표 진행 페이지의 정보 + 등록후보자 API 정보 -> 선거구별 당선자 테이블 생성"
   ]
  },
  {
   "cell_type": "code",
   "execution_count": 54,
   "metadata": {},
   "outputs": [],
   "source": [
    "from selenium import webdriver \n",
    "import time\n",
    "import pandas as pd\n",
    "# from selenium.webdriver.common.by import By\n",
    "import pyautogui\n",
    "import pyperclip\n",
    "import urllib.request\n",
    "from urllib.request import urlretrieve\n",
    "import requests\n",
    "from bs4 import BeautifulSoup\n",
    "import csv\n",
    "import os\n",
    "headers = {\"user-agent\": \"Mozilla/5.0 (Macintosh; Intel Mac OS X 10_15_5) AppleWebKit/537.36 (HTML, like Gecko) Chrome/84.0.4147.89 Safari/537.36\"}\n",
    "import numpy as np\n",
    "import xmltodict\n",
    "import json\n",
    "import warnings\n",
    "pd.set_option('display.max_columns', 100)\n",
    "# Ignore all warnings\n",
    "warnings.filterwarnings(\"ignore\")\n",
    "\n",
    "pd.set_option('display.max_rows', 10000)\n"
   ]
  },
  {
   "cell_type": "code",
   "execution_count": 55,
   "metadata": {},
   "outputs": [
    {
     "data": {
      "text/html": [
       "<div>\n",
       "<style scoped>\n",
       "    .dataframe tbody tr th:only-of-type {\n",
       "        vertical-align: middle;\n",
       "    }\n",
       "\n",
       "    .dataframe tbody tr th {\n",
       "        vertical-align: top;\n",
       "    }\n",
       "\n",
       "    .dataframe thead th {\n",
       "        text-align: right;\n",
       "    }\n",
       "</style>\n",
       "<table border=\"1\" class=\"dataframe\">\n",
       "  <thead>\n",
       "    <tr style=\"text-align: right;\">\n",
       "      <th></th>\n",
       "      <th>시도</th>\n",
       "      <th>선거구명</th>\n",
       "      <th>시군구명</th>\n",
       "      <th>정당명</th>\n",
       "      <th>후보자명</th>\n",
       "      <th>등록여부</th>\n",
       "      <th>시도_선거구명</th>\n",
       "    </tr>\n",
       "  </thead>\n",
       "  <tbody>\n",
       "    <tr>\n",
       "      <th>0</th>\n",
       "      <td>서울특별시</td>\n",
       "      <td>종로구</td>\n",
       "      <td>종로구</td>\n",
       "      <td>더불어민주당</td>\n",
       "      <td>곽상언</td>\n",
       "      <td>등록</td>\n",
       "      <td>서울특별시_종로구</td>\n",
       "    </tr>\n",
       "    <tr>\n",
       "      <th>1</th>\n",
       "      <td>서울특별시</td>\n",
       "      <td>종로구</td>\n",
       "      <td>종로구</td>\n",
       "      <td>국민의힘</td>\n",
       "      <td>최재형</td>\n",
       "      <td>등록</td>\n",
       "      <td>서울특별시_종로구</td>\n",
       "    </tr>\n",
       "    <tr>\n",
       "      <th>2</th>\n",
       "      <td>서울특별시</td>\n",
       "      <td>종로구</td>\n",
       "      <td>종로구</td>\n",
       "      <td>새로운미래</td>\n",
       "      <td>진예찬</td>\n",
       "      <td>등록</td>\n",
       "      <td>서울특별시_종로구</td>\n",
       "    </tr>\n",
       "    <tr>\n",
       "      <th>3</th>\n",
       "      <td>서울특별시</td>\n",
       "      <td>종로구</td>\n",
       "      <td>종로구</td>\n",
       "      <td>개혁신당</td>\n",
       "      <td>금태섭</td>\n",
       "      <td>등록</td>\n",
       "      <td>서울특별시_종로구</td>\n",
       "    </tr>\n",
       "    <tr>\n",
       "      <th>4</th>\n",
       "      <td>서울특별시</td>\n",
       "      <td>종로구</td>\n",
       "      <td>종로구</td>\n",
       "      <td>가락특권폐지당</td>\n",
       "      <td>김준수</td>\n",
       "      <td>등록</td>\n",
       "      <td>서울특별시_종로구</td>\n",
       "    </tr>\n",
       "  </tbody>\n",
       "</table>\n",
       "</div>"
      ],
      "text/plain": [
       "      시도 선거구명 시군구명      정당명 후보자명 등록여부    시도_선거구명\n",
       "0  서울특별시  종로구  종로구   더불어민주당  곽상언   등록  서울특별시_종로구\n",
       "1  서울특별시  종로구  종로구     국민의힘  최재형   등록  서울특별시_종로구\n",
       "2  서울특별시  종로구  종로구    새로운미래  진예찬   등록  서울특별시_종로구\n",
       "3  서울특별시  종로구  종로구     개혁신당  금태섭   등록  서울특별시_종로구\n",
       "4  서울특별시  종로구  종로구  가락특권폐지당  김준수   등록  서울특별시_종로구"
      ]
     },
     "execution_count": 55,
     "metadata": {},
     "output_type": "execute_result"
    }
   ],
   "source": [
    "df = pd.read_excel('./등록후보자/등록후보자.xlsx')\n",
    "df.head()"
   ]
  },
  {
   "cell_type": "code",
   "execution_count": 56,
   "metadata": {},
   "outputs": [],
   "source": [
    "df_repo = pd.DataFrame(index = df.선거구명.unique())\n",
    "df_repo.loc['종로구','123'] ='0'"
   ]
  },
  {
   "cell_type": "code",
   "execution_count": 57,
   "metadata": {},
   "outputs": [
    {
     "data": {
      "text/html": [
       "<div>\n",
       "<style scoped>\n",
       "    .dataframe tbody tr th:only-of-type {\n",
       "        vertical-align: middle;\n",
       "    }\n",
       "\n",
       "    .dataframe tbody tr th {\n",
       "        vertical-align: top;\n",
       "    }\n",
       "\n",
       "    .dataframe thead th {\n",
       "        text-align: right;\n",
       "    }\n",
       "</style>\n",
       "<table border=\"1\" class=\"dataframe\">\n",
       "  <thead>\n",
       "    <tr style=\"text-align: right;\">\n",
       "      <th></th>\n",
       "      <th>시도</th>\n",
       "      <th>선거구명</th>\n",
       "      <th>정당수</th>\n",
       "    </tr>\n",
       "  </thead>\n",
       "  <tbody>\n",
       "    <tr>\n",
       "      <th>0</th>\n",
       "      <td>강원특별자치도</td>\n",
       "      <td>강릉시</td>\n",
       "      <td>3</td>\n",
       "    </tr>\n",
       "    <tr>\n",
       "      <th>1</th>\n",
       "      <td>강원특별자치도</td>\n",
       "      <td>동해시태백시삼척시정선군</td>\n",
       "      <td>3</td>\n",
       "    </tr>\n",
       "    <tr>\n",
       "      <th>2</th>\n",
       "      <td>강원특별자치도</td>\n",
       "      <td>속초시인제군고성군양양군</td>\n",
       "      <td>2</td>\n",
       "    </tr>\n",
       "    <tr>\n",
       "      <th>3</th>\n",
       "      <td>강원특별자치도</td>\n",
       "      <td>원주시갑</td>\n",
       "      <td>2</td>\n",
       "    </tr>\n",
       "    <tr>\n",
       "      <th>4</th>\n",
       "      <td>강원특별자치도</td>\n",
       "      <td>원주시을</td>\n",
       "      <td>2</td>\n",
       "    </tr>\n",
       "  </tbody>\n",
       "</table>\n",
       "</div>"
      ],
      "text/plain": [
       "        시도          선거구명  정당수\n",
       "0  강원특별자치도           강릉시    3\n",
       "1  강원특별자치도  동해시태백시삼척시정선군    3\n",
       "2  강원특별자치도  속초시인제군고성군양양군    2\n",
       "3  강원특별자치도          원주시갑    2\n",
       "4  강원특별자치도          원주시을    2"
      ]
     },
     "execution_count": 57,
     "metadata": {},
     "output_type": "execute_result"
    }
   ],
   "source": [
    "df_sgg = df.groupby(['시도','선거구명'])[['시도','선거구명']].head(1)\n",
    "df_sgg_0 = df.groupby(['시도','선거구명'])[['정당명']].count().reset_index().rename({'정당명':'정당수'}, axis = 1)\n",
    "df_sgg_1 =  df_sgg.groupby(['시도'])[['선거구명']].count().reset_index().rename({'선거구명':'선거구수'}, axis = 1)\n",
    "df_sgg_0.head()"
   ]
  },
  {
   "cell_type": "code",
   "execution_count": 58,
   "metadata": {},
   "outputs": [],
   "source": [
    "df_sgg_0['시도선거구'] = df_sgg_0['시도'] + df_sgg_0['선거구명']"
   ]
  },
  {
   "cell_type": "code",
   "execution_count": 59,
   "metadata": {},
   "outputs": [
    {
     "data": {
      "text/plain": [
       "Index(['시도', '선거구명', '정당수', '시도선거구'], dtype='object')"
      ]
     },
     "execution_count": 59,
     "metadata": {},
     "output_type": "execute_result"
    }
   ],
   "source": [
    "df_sgg_0.columns"
   ]
  },
  {
   "cell_type": "code",
   "execution_count": 60,
   "metadata": {},
   "outputs": [],
   "source": [
    "df_sgg_0 = df_sgg_0.set_index('선거구명')\n",
    "df_sgg_0['선거구명'] = df_sgg_0.index"
   ]
  },
  {
   "cell_type": "code",
   "execution_count": 61,
   "metadata": {},
   "outputs": [
    {
     "data": {
      "text/html": [
       "<div>\n",
       "<style scoped>\n",
       "    .dataframe tbody tr th:only-of-type {\n",
       "        vertical-align: middle;\n",
       "    }\n",
       "\n",
       "    .dataframe tbody tr th {\n",
       "        vertical-align: top;\n",
       "    }\n",
       "\n",
       "    .dataframe thead th {\n",
       "        text-align: right;\n",
       "    }\n",
       "</style>\n",
       "<table border=\"1\" class=\"dataframe\">\n",
       "  <thead>\n",
       "    <tr style=\"text-align: right;\">\n",
       "      <th></th>\n",
       "      <th>시도</th>\n",
       "      <th>정당수</th>\n",
       "      <th>시도선거구</th>\n",
       "      <th>선거구명</th>\n",
       "    </tr>\n",
       "    <tr>\n",
       "      <th>선거구명</th>\n",
       "      <th></th>\n",
       "      <th></th>\n",
       "      <th></th>\n",
       "      <th></th>\n",
       "    </tr>\n",
       "  </thead>\n",
       "  <tbody>\n",
       "    <tr>\n",
       "      <th>강릉시</th>\n",
       "      <td>강원특별자치도</td>\n",
       "      <td>3</td>\n",
       "      <td>강원특별자치도강릉시</td>\n",
       "      <td>강릉시</td>\n",
       "    </tr>\n",
       "    <tr>\n",
       "      <th>동해시태백시삼척시정선군</th>\n",
       "      <td>강원특별자치도</td>\n",
       "      <td>3</td>\n",
       "      <td>강원특별자치도동해시태백시삼척시정선군</td>\n",
       "      <td>동해시태백시삼척시정선군</td>\n",
       "    </tr>\n",
       "    <tr>\n",
       "      <th>속초시인제군고성군양양군</th>\n",
       "      <td>강원특별자치도</td>\n",
       "      <td>2</td>\n",
       "      <td>강원특별자치도속초시인제군고성군양양군</td>\n",
       "      <td>속초시인제군고성군양양군</td>\n",
       "    </tr>\n",
       "    <tr>\n",
       "      <th>원주시갑</th>\n",
       "      <td>강원특별자치도</td>\n",
       "      <td>2</td>\n",
       "      <td>강원특별자치도원주시갑</td>\n",
       "      <td>원주시갑</td>\n",
       "    </tr>\n",
       "    <tr>\n",
       "      <th>원주시을</th>\n",
       "      <td>강원특별자치도</td>\n",
       "      <td>2</td>\n",
       "      <td>강원특별자치도원주시을</td>\n",
       "      <td>원주시을</td>\n",
       "    </tr>\n",
       "  </tbody>\n",
       "</table>\n",
       "</div>"
      ],
      "text/plain": [
       "                   시도  정당수                시도선거구          선거구명\n",
       "선거구명                                                         \n",
       "강릉시           강원특별자치도    3           강원특별자치도강릉시           강릉시\n",
       "동해시태백시삼척시정선군  강원특별자치도    3  강원특별자치도동해시태백시삼척시정선군  동해시태백시삼척시정선군\n",
       "속초시인제군고성군양양군  강원특별자치도    2  강원특별자치도속초시인제군고성군양양군  속초시인제군고성군양양군\n",
       "원주시갑          강원특별자치도    2          강원특별자치도원주시갑          원주시갑\n",
       "원주시을          강원특별자치도    2          강원특별자치도원주시을          원주시을"
      ]
     },
     "execution_count": 61,
     "metadata": {},
     "output_type": "execute_result"
    }
   ],
   "source": [
    "df_sgg_0.head()"
   ]
  },
  {
   "cell_type": "code",
   "execution_count": 62,
   "metadata": {},
   "outputs": [
    {
     "name": "stderr",
     "output_type": "stream",
     "text": [
      "100%|██████████| 17/17 [01:52<00:00,  6.59s/it]\n"
     ]
    }
   ],
   "source": [
    "#소요시간: 5분\n",
    "\n",
    "from selenium import webdriver\n",
    "from selenium.webdriver.common.by import By\n",
    "from selenium.webdriver.support.ui import WebDriverWait\n",
    "from selenium.webdriver.support import expected_conditions as EC\n",
    "from urllib.request import urlretrieve\n",
    "from selenium.webdriver.chrome.options import Options\n",
    "from tqdm import tqdm\n",
    "\n",
    "options = Options()\n",
    "options.add_experimental_option(\"excludeSwitches\", [\"enable-automation\"])\n",
    "driver = webdriver.Chrome(options = options)\n",
    "\n",
    "# driver.implicitly_wait(10)\n",
    "li_num = []\n",
    "li_sgg = []\n",
    "# 인천광역시 = df_후보자['시도'].unique()[3]\n",
    "# 대전광역시 = df_후보자['시도'].unique()[5]\n",
    "# _id = driver.find_element('name','username')\n",
    "# _id.send_keys(instagram_id)\n",
    "# time.sleep(2)\n",
    "li_suc = [] #수집 성공 선거구 리스트 \n",
    "li_error = [] #수집 실패 선거구 리스트\n",
    "dic_시도 = {2:'서울특별시',3:'부산광역시',4:'대구광역시',5:'인천광역시',6:'광주광역시',7:'대전광역시',8:'울산광역시',9:'세종특별자치시'\n",
    "          ,10:'경기도',11:'강원특별자치도',12:'충청북도',13:'충청남도',14:'전북특별자치도',15:'전라남도',16:'경상북도',17:'경상남도',18:'제주특별자치도'}\n",
    "dic_시도코드 = {}\n",
    "for i in dic_시도.keys():\n",
    "    dic_시도코드[dic_시도[i]] = i\n",
    "df_sgg_1['선거구코드'] = df_sgg_1['시도'].map(dic_시도코드)\n",
    "df_sgg_0['선거구코드'] = df_sgg_0['시도'].map(dic_시도코드)\n",
    "\n",
    "# driver = webdriver.Chrome()\n",
    "driver.get(\"http://info.nec.go.kr/main/showDocument.xhtml?electionId=0020240410&topMenuId=VC&secondMenuId=VCCP09\")\n",
    "driver.find_element(By.CSS_SELECTOR, '#electionId2').click()\n",
    "#cityCode\n",
    "\n",
    "# Set implicit wait\n",
    "driver.implicitly_wait(5)  # Adjust the time as needed\n",
    "\n",
    "driver.find_element(By.CSS_SELECTOR, '#cityCode').click()  # 시도 선택 박스켜기\n",
    "\n",
    "df_repo_cnd = pd.DataFrame(index = df_sgg_0.index)\n",
    "df_repo_cnd['시도선거구'] = df_sgg_0['시도선거구']\n",
    "df_repo_vot = pd.DataFrame(index = df_sgg_0.index)\n",
    "df_repo_vot['시도선거구'] = df_sgg_0['시도선거구']\n",
    "for i in tqdm(range(2, 19)):  # 시도 선택 레벨\n",
    "    driver.find_element(By.CSS_SELECTOR, f'#cityCode > option:nth-child({i})').click()  # child(2)-서울 ~ child(18)-제주, 각각 17 시도\n",
    "    num_sgg = int(df_sgg_1.loc[df_sgg_1['선거구코드'] == i]['선거구수'].values)\n",
    "    for j in range(2, num_sgg+2):  # 선거구 선택레벨\n",
    "        driver.find_element(By.CSS_SELECTOR, '#sggCityCode').click()  # 선거구 선택 박스켜기\n",
    "        driver.find_element(By.CSS_SELECTOR, f'#sggCityCode > option:nth-child({j})').click()  # 선거구 선택\n",
    "        driver.find_element(By.CSS_SELECTOR, '#spanSubmit > input[type=image]').click()  # 검색클릭\n",
    "        sgg = driver.find_element(By.CSS_SELECTOR, '#table01 > tbody > tr:nth-child(1) > td:nth-child(1)').text\n",
    "        #table01 > tbody > tr:nth-child(1) > td:nth-child(1)\n",
    "        num_prt = int(df_sgg_0.loc[(df_sgg_0['선거구코드'] == i)&(df_sgg_0['선거구명'] == sgg)]['정당수'].values)\n",
    "        for k in range(5,num_prt+5):\n",
    "            sido = driver.find_element(By.CSS_SELECTOR, '#cityName').text[1:-1] \n",
    "            prt = driver.find_element(By.CSS_SELECTOR,f'#table01 > tbody > tr:nth-child(1) > td:nth-child({k}) > strong').text[:-3]\n",
    "            cnd = driver.find_element(By.CSS_SELECTOR,f'#table01 > tbody > tr:nth-child(1) > td:nth-child({k}) > strong').text[-3:]\n",
    "            vot = driver.find_element(By.CSS_SELECTOR, f'#table01 > tbody > tr:nth-child(2) > td:nth-child({k})').text\n",
    "            df_repo_cnd.loc[df_repo_cnd['시도선거구'] == sido+sgg,prt] = cnd\n",
    "            df_repo_vot.loc[df_repo_vot['시도선거구'] == sido+sgg,prt] = vot\n",
    "            df_repo_vot.loc[df_repo_vot['시도선거구'] == sido+sgg,'시도'] = sido\n",
    "            df_repo_cnd.loc[df_repo_cnd['시도선거구'] == sido+sgg,'시도'] = sido\n",
    "driver.quit()"
   ]
  },
  {
   "cell_type": "code",
   "execution_count": 63,
   "metadata": {},
   "outputs": [],
   "source": [
    "driver.quit()"
   ]
  },
  {
   "cell_type": "code",
   "execution_count": 64,
   "metadata": {},
   "outputs": [],
   "source": [
    "df_repo_cnd.columns =['시도선거구', '더불어민주당', '시도', '국민의힘', '새로운미래', '개혁신당', '가락특권폐지당',\n",
    "       '대한국민당', '민중민주당', '한국국민당', '무소속', '녹색정의당', '녹색정의당', '국민의힘',\n",
    "       '더불어민주당', '기후민생당', '진보당', '내일로미래로', '자유통일당', '새진보연합',\n",
    "       '우리공화당', '자유민주당', '소나무당', '기독당', '노동당', '새로운미래', '개혁신당',\n",
    "       '한국농어민당', '진보당']\n",
    "df_repo_vot.columns = ['시도선거구', '더불어민주당', '시도', '국민의힘', '새로운미래', '개혁신당', '가락특권폐지당',\n",
    "       '대한국민당', '민중민주당', '한국국민당', '무소속', '녹색정의당', '녹색정의당', '국민의힘',\n",
    "       '더불어민주당', '기후민생당', '진보당', '내일로미래로', '자유통일당', '새진보연합',\n",
    "       '우리공화당', '자유민주당', '소나무당', '기독당', '노동당', '새로운미래', '개혁신당',\n",
    "       '한국농어민당', '진보당']"
   ]
  },
  {
   "cell_type": "code",
   "execution_count": 65,
   "metadata": {},
   "outputs": [],
   "source": [
    "for i in df_repo_vot.columns:\n",
    "    df_repo_vot[i] = df_repo_vot[i].replace('nan',0)\n",
    "\n",
    "for i in df_repo_cnd.columns:\n",
    "    df_repo_cnd[i] = df_repo_cnd[i].replace('nan',0)\n",
    "df_repo_vot['가락특권폐지당'] = df_repo_vot['가락특권폐지당'].replace('na',0)\n",
    "df_repo_vot['대한국민당'] = df_repo_vot['대한국민당'].replace('na',0)\n",
    "df_repo_cnd['가락특권폐지당'] = df_repo_cnd['가락특권폐지당'].replace('na',0)\n",
    "df_repo_cnd['대한국민당'] = df_repo_cnd['대한국민당'].replace('na',0)\n"
   ]
  },
  {
   "cell_type": "code",
   "execution_count": 31,
   "metadata": {},
   "outputs": [],
   "source": [
    "df_repo_cnd.to_excel('temp_cnd.xlsx')\n",
    "df_repo_vot.to_excel('temp_vot.xlsx')\n",
    "df_repo_cnd_1 = pd.read_excel('temp_cnd.xlsx', thousands=',').rename({'Unnamed: 0':'선거구명'})\n",
    "df_repo_vot_1 = pd.read_excel('temp_vot.xlsx', thousands=',').rename({'Unnamed: 0':'선거구명'})"
   ]
  },
  {
   "cell_type": "code",
   "execution_count": 32,
   "metadata": {},
   "outputs": [],
   "source": [
    "li_col = ['녹색정의당.1', '국민의힘.1', '더불어민주당.1','새로운미래.1', '개혁신당.1','진보당.1']\n",
    "for col in li_col:\n",
    "    for i in range(len(df_repo_vot_1)):\n",
    "        df_repo_vot_1.loc[i,col[:-2]] = df_repo_vot_1.loc[i,col] + df_repo_vot_1.loc[i,col[:-2]]\n"
   ]
  },
  {
   "cell_type": "code",
   "execution_count": 33,
   "metadata": {},
   "outputs": [],
   "source": [
    "li_col = ['녹색정의당.1', '국민의힘.1', '더불어민주당.1','새로운미래.1', '개혁신당.1','진보당.1']\n",
    "for col in li_col:\n",
    "    for i in range(len(df_repo_cnd_1)):\n",
    "        if  df_repo_cnd_1.loc[i,col[:-2]] == 0:\n",
    "            df_repo_cnd_1.loc[i,col[:-2]] = df_repo_cnd_1.loc[i,col]"
   ]
  },
  {
   "cell_type": "code",
   "execution_count": 34,
   "metadata": {},
   "outputs": [
    {
     "data": {
      "text/plain": [
       "Index(['선거구명', '시도선거구', '더불어민주당', '시도', '국민의힘', '새로운미래', '개혁신당', '가락특권폐지당',\n",
       "       '대한국민당', '민중민주당', '한국국민당', '무소속', '녹색정의당', '녹색정의당.1', '국민의힘.1',\n",
       "       '더불어민주당.1', '기후민생당', '진보당', '내일로미래로', '자유통일당', '새진보연합', '우리공화당',\n",
       "       '자유민주당', '소나무당', '기독당', '노동당', '새로운미래.1', '개혁신당.1', '한국농어민당', '진보당.1'],\n",
       "      dtype='object')"
      ]
     },
     "execution_count": 34,
     "metadata": {},
     "output_type": "execute_result"
    }
   ],
   "source": [
    "df_repo_cnd_1.columns"
   ]
  },
  {
   "cell_type": "code",
   "execution_count": 35,
   "metadata": {},
   "outputs": [],
   "source": [
    "df_repo_vot_1 = df_repo_vot_1[['시도선거구', '시도', '선거구명', '더불어민주당', '국민의힘','녹색정의당', '새로운미래',\n",
    "                               '자유통일당','진보당','개혁신당', '민중민주당','한국국민당', '녹색정의당', '기후민생당',\n",
    "                               '내일로미래로',  '새진보연합','우리공화당', '자유민주당', '소나무당', '기독당', '노동당',\n",
    "                               '한국농어민당', '무소속']]"
   ]
  },
  {
   "cell_type": "code",
   "execution_count": 36,
   "metadata": {},
   "outputs": [],
   "source": [
    "df_repo_cnd_1 = df_repo_cnd_1[['시도선거구', '시도', '선거구명', '더불어민주당', '국민의힘','녹색정의당', '새로운미래',\n",
    "                               '자유통일당','진보당','개혁신당', '민중민주당','한국국민당', '녹색정의당', '기후민생당',\n",
    "                               '내일로미래로',  '새진보연합','우리공화당', '자유민주당', '소나무당', '기독당', '노동당',\n",
    "                               '한국농어민당', '무소속']]"
   ]
  },
  {
   "cell_type": "code",
   "execution_count": 37,
   "metadata": {},
   "outputs": [],
   "source": [
    "df_repo_vot_1['SCS_CNT'] = df_repo_vot_1.iloc[:,3:].max(axis = 1)\n",
    "df_repo_vot_1['SCS_PRT'] = df_repo_vot_1.iloc[:,3:].idxmax(axis=1)"
   ]
  },
  {
   "cell_type": "code",
   "execution_count": 38,
   "metadata": {},
   "outputs": [],
   "source": [
    "df_repo_cnd_1['scs_prt'] = df_repo_vot_1['scs_prt']"
   ]
  },
  {
   "cell_type": "code",
   "execution_count": 44,
   "metadata": {},
   "outputs": [],
   "source": [
    "df_repo_cnd_1['SCS_CD'] = 0\n",
    "df_repo_vot_1['SCS_CNT'] = 0\n",
    "for i,prt in zip(range(len(df_repo_cnd_1)), df_repo_cnd_1['scs_prt']):\n",
    "    df_repo_cnd_1.loc[i, 'SCS_CD'] = df_repo_cnd_1.loc[i, prt]\n",
    "    df_repo_vot_1.loc[i, 'SCS_CNT'] = df_repo_vot_1.loc[i, prt]\n"
   ]
  },
  {
   "cell_type": "code",
   "execution_count": 251,
   "metadata": {},
   "outputs": [],
   "source": [
    "# df_repo_vot_1['선거구'] = df_repo_vot_1['시도'] + df_repo_vot_1['선거구명']\n",
    "# df_repo_cnd_1['선거구'] = df_repo_cnd_1['시도'] + df_repo_cnd_1['선거구명']\n",
    "# for sgg in template.index:\n",
    "#     sg=str(df_repo_cnd_1.loc[df_repo_cnd_1['선거구'] == sgg,'scs_prt'].values)[2:-2]\n",
    "#     cn=str(df_repo_cnd_1.loc[df_repo_cnd_1['선거구']==sgg,sg].values)[2:-2]\n",
    "#     template.loc[sgg, '소속정당'] = sg\n",
    "#     template.loc[sgg, '후보자명'] = cn\n",
    "# template = template.reset_index()\n",
    "# template['후보자명'] = template['후보자명'].str.replace('\\\\n','')"
   ]
  },
  {
   "cell_type": "code",
   "execution_count": null,
   "metadata": {},
   "outputs": [],
   "source": []
  }
 ],
 "metadata": {
  "kernelspec": {
   "display_name": "Python 3",
   "language": "python",
   "name": "python3"
  },
  "language_info": {
   "codemirror_mode": {
    "name": "ipython",
    "version": 3
   },
   "file_extension": ".py",
   "mimetype": "text/x-python",
   "name": "python",
   "nbconvert_exporter": "python",
   "pygments_lexer": "ipython3",
   "version": "3.10.13"
  }
 },
 "nbformat": 4,
 "nbformat_minor": 4
}
