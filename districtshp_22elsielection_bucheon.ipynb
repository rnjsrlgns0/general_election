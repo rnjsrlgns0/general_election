{
 "cells": [
  {
   "cell_type": "markdown",
   "metadata": {},
   "source": [
    "## 2024년 1월 기준의 행정동 경계 x\n",
    "- 부천시의 경우 24.1을 기준으로 행정동이 10 -> 37개로 늘어남\n",
    "- 36개동이 존재하던 2019 2q의 데이터 중 부천시의 데이터만 필터링\n",
    "- 2024.2의 행정경계(선거구정보 존재) 중 부천시 데이터 없애기\n",
    "- 두 레이어 합치기\n",
    "- 부천시 외 일부 행정동 합동, 명칭변경 반영 등 \n",
    "- 부천시 및 위의 조정레이어의 선거구 정보는 QGIS를 통해 수기입력"
   ]
  },
  {
   "cell_type": "code",
   "execution_count": 20,
   "metadata": {},
   "outputs": [],
   "source": [
    "#->선거구shp_22대총선\n",
    "#qgis sgis의 2019_2q 파일 중 부천시 부분만 필터 후 27개 동으로 정비\n",
    "#부천시 10개동 -> 37개동 반영\n",
    "#분동/합동으로 인한 차이는 미반영 -> 부천시_반영후 \n",
    "#->qgis를 이용한 가공-> 22대총선_선거구_alias 반영전 \n",
    "import pandas as pd\n",
    "import os\n",
    "import shutil\n",
    "pd.set_option('display.max_rows', 10000)\n",
    "import numpy as np\n",
    "import geopandas as gpd"
   ]
  },
  {
   "cell_type": "code",
   "execution_count": 23,
   "metadata": {},
   "outputs": [
    {
     "name": "stdout",
     "output_type": "stream",
     "text": [
      "3523\n"
     ]
    },
    {
     "data": {
      "text/html": [
       "<div>\n",
       "<style scoped>\n",
       "    .dataframe tbody tr th:only-of-type {\n",
       "        vertical-align: middle;\n",
       "    }\n",
       "\n",
       "    .dataframe tbody tr th {\n",
       "        vertical-align: top;\n",
       "    }\n",
       "\n",
       "    .dataframe thead th {\n",
       "        text-align: right;\n",
       "    }\n",
       "</style>\n",
       "<table border=\"1\" class=\"dataframe\">\n",
       "  <thead>\n",
       "    <tr style=\"text-align: right;\">\n",
       "      <th></th>\n",
       "      <th>ADM_NM</th>\n",
       "      <th>ADM_CD</th>\n",
       "      <th>SIGUNGU_NM</th>\n",
       "      <th>SIDO_NM</th>\n",
       "      <th>SIGUNGU_CD</th>\n",
       "      <th>SIDO_CD</th>\n",
       "      <th>SIDO_SIGUN</th>\n",
       "      <th>cor</th>\n",
       "      <th>DISTRICT</th>\n",
       "      <th>DIS</th>\n",
       "      <th>geometry</th>\n",
       "    </tr>\n",
       "  </thead>\n",
       "  <tbody>\n",
       "    <tr>\n",
       "      <th>0</th>\n",
       "      <td>사직동</td>\n",
       "      <td>11010530</td>\n",
       "      <td>종로구</td>\n",
       "      <td>서울특별시</td>\n",
       "      <td>11010</td>\n",
       "      <td>11</td>\n",
       "      <td>서울특별시_종로구_사직동</td>\n",
       "      <td>0</td>\n",
       "      <td>종로구</td>\n",
       "      <td>서울특별시_종로구</td>\n",
       "      <td>POLYGON ((197702.069 553187.311, 197703.431 55...</td>\n",
       "    </tr>\n",
       "    <tr>\n",
       "      <th>1</th>\n",
       "      <td>삼청동</td>\n",
       "      <td>11010540</td>\n",
       "      <td>종로구</td>\n",
       "      <td>서울특별시</td>\n",
       "      <td>11010</td>\n",
       "      <td>11</td>\n",
       "      <td>서울특별시_종로구_삼청동</td>\n",
       "      <td>0</td>\n",
       "      <td>종로구</td>\n",
       "      <td>서울특별시_종로구</td>\n",
       "      <td>POLYGON ((198170.457 553770.678, 198172.189 55...</td>\n",
       "    </tr>\n",
       "    <tr>\n",
       "      <th>2</th>\n",
       "      <td>부암동</td>\n",
       "      <td>11010550</td>\n",
       "      <td>종로구</td>\n",
       "      <td>서울특별시</td>\n",
       "      <td>11010</td>\n",
       "      <td>11</td>\n",
       "      <td>서울특별시_종로구_부암동</td>\n",
       "      <td>0</td>\n",
       "      <td>종로구</td>\n",
       "      <td>서울특별시_종로구</td>\n",
       "      <td>POLYGON ((196621.023 556395.880, 196628.323 55...</td>\n",
       "    </tr>\n",
       "    <tr>\n",
       "      <th>3</th>\n",
       "      <td>평창동</td>\n",
       "      <td>11010560</td>\n",
       "      <td>종로구</td>\n",
       "      <td>서울특별시</td>\n",
       "      <td>11010</td>\n",
       "      <td>11</td>\n",
       "      <td>서울특별시_종로구_평창동</td>\n",
       "      <td>0</td>\n",
       "      <td>종로구</td>\n",
       "      <td>서울특별시_종로구</td>\n",
       "      <td>POLYGON ((197800.719 559064.245, 197782.581 55...</td>\n",
       "    </tr>\n",
       "    <tr>\n",
       "      <th>4</th>\n",
       "      <td>한남동</td>\n",
       "      <td>11030740</td>\n",
       "      <td>용산구</td>\n",
       "      <td>서울특별시</td>\n",
       "      <td>11030</td>\n",
       "      <td>11</td>\n",
       "      <td>서울특별시_용산구_한남동</td>\n",
       "      <td>0</td>\n",
       "      <td>용산구</td>\n",
       "      <td>서울특별시_용산구</td>\n",
       "      <td>POLYGON ((200404.268 550031.323, 200404.019 55...</td>\n",
       "    </tr>\n",
       "  </tbody>\n",
       "</table>\n",
       "</div>"
      ],
      "text/plain": [
       "  ADM_NM    ADM_CD SIGUNGU_NM SIDO_NM SIGUNGU_CD SIDO_CD     SIDO_SIGUN cor  \\\n",
       "0    사직동  11010530        종로구   서울특별시      11010      11  서울특별시_종로구_사직동   0   \n",
       "1    삼청동  11010540        종로구   서울특별시      11010      11  서울특별시_종로구_삼청동   0   \n",
       "2    부암동  11010550        종로구   서울특별시      11010      11  서울특별시_종로구_부암동   0   \n",
       "3    평창동  11010560        종로구   서울특별시      11010      11  서울특별시_종로구_평창동   0   \n",
       "4    한남동  11030740        용산구   서울특별시      11030      11  서울특별시_용산구_한남동   0   \n",
       "\n",
       "  DISTRICT        DIS                                           geometry  \n",
       "0      종로구  서울특별시_종로구  POLYGON ((197702.069 553187.311, 197703.431 55...  \n",
       "1      종로구  서울특별시_종로구  POLYGON ((198170.457 553770.678, 198172.189 55...  \n",
       "2      종로구  서울특별시_종로구  POLYGON ((196621.023 556395.880, 196628.323 55...  \n",
       "3      종로구  서울특별시_종로구  POLYGON ((197800.719 559064.245, 197782.581 55...  \n",
       "4      용산구  서울특별시_용산구  POLYGON ((200404.268 550031.323, 200404.019 55...  "
      ]
     },
     "execution_count": 23,
     "metadata": {},
     "output_type": "execute_result"
    }
   ],
   "source": [
    "#선거구정보가 모두 추가된 동 정보 가져오기 : 3528 - 5(강원도)\n",
    "file = gpd.read_file('../shp/행정경계_202402/22대총선_선거구/22대총선_선거구_동/부천시_반영전')\n",
    "gdf = gpd.GeoDataFrame(file, crs = file.crs)\n",
    "gdf = gdf.set_crs(epsg=5186, allow_override=True)\n",
    "print(len(gdf))\n",
    "gdf.head()"
   ]
  },
  {
   "cell_type": "code",
   "execution_count": 22,
   "metadata": {},
   "outputs": [
    {
     "name": "stdout",
     "output_type": "stream",
     "text": [
      "37\n"
     ]
    },
    {
     "data": {
      "text/html": [
       "<div>\n",
       "<style scoped>\n",
       "    .dataframe tbody tr th:only-of-type {\n",
       "        vertical-align: middle;\n",
       "    }\n",
       "\n",
       "    .dataframe tbody tr th {\n",
       "        vertical-align: top;\n",
       "    }\n",
       "\n",
       "    .dataframe thead th {\n",
       "        text-align: right;\n",
       "    }\n",
       "</style>\n",
       "<table border=\"1\" class=\"dataframe\">\n",
       "  <thead>\n",
       "    <tr style=\"text-align: right;\">\n",
       "      <th></th>\n",
       "      <th>base_date</th>\n",
       "      <th>adm_dr_cd</th>\n",
       "      <th>adm_dr_nm</th>\n",
       "      <th>geometry</th>\n",
       "    </tr>\n",
       "  </thead>\n",
       "  <tbody>\n",
       "    <tr>\n",
       "      <th>0</th>\n",
       "      <td>20190630</td>\n",
       "      <td>3105051</td>\n",
       "      <td>심곡2동</td>\n",
       "      <td>POLYGON ((181312.979 543148.000, 181326.288 54...</td>\n",
       "    </tr>\n",
       "    <tr>\n",
       "      <th>1</th>\n",
       "      <td>20190630</td>\n",
       "      <td>3105052</td>\n",
       "      <td>심곡1동</td>\n",
       "      <td>POLYGON ((180885.579 544457.310, 180889.348 54...</td>\n",
       "    </tr>\n",
       "    <tr>\n",
       "      <th>2</th>\n",
       "      <td>20190630</td>\n",
       "      <td>3105053</td>\n",
       "      <td>심곡3동</td>\n",
       "      <td>POLYGON ((180386.450 543648.103, 180383.428 54...</td>\n",
       "    </tr>\n",
       "    <tr>\n",
       "      <th>3</th>\n",
       "      <td>20190630</td>\n",
       "      <td>3105054</td>\n",
       "      <td>원미2동</td>\n",
       "      <td>POLYGON ((181688.947 543267.074, 181670.647 54...</td>\n",
       "    </tr>\n",
       "    <tr>\n",
       "      <th>4</th>\n",
       "      <td>20190630</td>\n",
       "      <td>3105055</td>\n",
       "      <td>소사동</td>\n",
       "      <td>POLYGON ((182102.767 543316.488, 182087.079 54...</td>\n",
       "    </tr>\n",
       "  </tbody>\n",
       "</table>\n",
       "</div>"
      ],
      "text/plain": [
       "  base_date adm_dr_cd adm_dr_nm  \\\n",
       "0  20190630   3105051      심곡2동   \n",
       "1  20190630   3105052      심곡1동   \n",
       "2  20190630   3105053      심곡3동   \n",
       "3  20190630   3105054      원미2동   \n",
       "4  20190630   3105055       소사동   \n",
       "\n",
       "                                            geometry  \n",
       "0  POLYGON ((181312.979 543148.000, 181326.288 54...  \n",
       "1  POLYGON ((180885.579 544457.310, 180889.348 54...  \n",
       "2  POLYGON ((180386.450 543648.103, 180383.428 54...  \n",
       "3  POLYGON ((181688.947 543267.074, 181670.647 54...  \n",
       "4  POLYGON ((182102.767 543316.488, 182087.079 54...  "
      ]
     },
     "execution_count": 22,
     "metadata": {},
     "output_type": "execute_result"
    }
   ],
   "source": [
    "#부천시 동정보 가져오기\n",
    "file = gpd.read_file('../shp/행정경계_201905/bucheon_refined')\n",
    "gdf_1 = gpd.GeoDataFrame(file, crs = file.crs)\n",
    "gdf_1 = gdf_1.set_crs(epsg=5186)\n",
    "print(len(gdf_1))\n",
    "gdf_1.head()"
   ]
  },
  {
   "cell_type": "code",
   "execution_count": 24,
   "metadata": {},
   "outputs": [
    {
     "data": {
      "text/plain": [
       "['ADM_NM',\n",
       " 'ADM_CD',\n",
       " 'SIGUNGU_NM',\n",
       " 'SIDO_NM',\n",
       " 'SIGUNGU_CD',\n",
       " 'SIDO_CD',\n",
       " 'SIDO_SIGUN',\n",
       " 'cor',\n",
       " 'DISTRICT',\n",
       " 'DIS',\n",
       " 'geometry']"
      ]
     },
     "execution_count": 24,
     "metadata": {},
     "output_type": "execute_result"
    }
   ],
   "source": [
    "#선거구_동 기준으로 컬럼 맞춰주기\n",
    "li_col = list(gdf.columns)\n",
    "li_col\n"
   ]
  },
  {
   "cell_type": "code",
   "execution_count": 25,
   "metadata": {},
   "outputs": [
    {
     "data": {
      "text/plain": [
       "Index(['ADM_NM', 'ADM_CD', 'SIGUNGU_NM', 'SIDO_NM', 'SIGUNGU_CD', 'SIDO_CD',\n",
       "       'SIDO_SIGUN', 'cor', 'DISTRICT', 'DIS', 'geometry'],\n",
       "      dtype='object')"
      ]
     },
     "execution_count": 25,
     "metadata": {},
     "output_type": "execute_result"
    }
   ],
   "source": [
    "#컬럼맞춰주기\n",
    "gdf_1 = gdf_1.rename({'adm_dr_cd':'ADM_CD','adm_dr_nm':'ADM_NM'}, axis = 1)\n",
    "gdf_1['SIDO_NM'] = '경기도'\n",
    "gdf_1['SIDO_CD'] = '31'\n",
    "gdf_1['SIGUNGU_CD'] = '31050'\n",
    "gdf_1['cor'] = '부천시'\n",
    "gdf_1['SIGUNGU_NM'] = '0'\n",
    "gdf_1['SIDO_SIGUN'] = '0'\n",
    "gdf_1['DISTRICT'] = '0'\n",
    "gdf_1['DIS'] = '0'\n",
    "gdf_1 = gdf_1.drop('base_date', axis = 1)\n",
    "gdf_1 = gdf_1[li_col]\n",
    "gdf_1.columns"
   ]
  },
  {
   "cell_type": "code",
   "execution_count": 26,
   "metadata": {},
   "outputs": [
    {
     "name": "stdout",
     "output_type": "stream",
     "text": [
      "3523\n",
      "3513\n"
     ]
    }
   ],
   "source": [
    "#부천시 제거\n",
    "print(len(gdf))\n",
    "gdf_2 = gdf.loc[~gdf['DISTRICT'].str.contains('부천시')]\n",
    "print(len(gdf_2))"
   ]
  },
  {
   "cell_type": "code",
   "execution_count": 27,
   "metadata": {},
   "outputs": [
    {
     "data": {
      "text/plain": [
       "3550"
      ]
     },
     "execution_count": 27,
     "metadata": {},
     "output_type": "execute_result"
    }
   ],
   "source": [
    "#좌표계 맞춰주기\n",
    "gdf_3 = pd.concat([gdf_2, gdf_1], axis = 0, ignore_index=0)\n",
    "len(gdf_3)"
   ]
  },
  {
   "cell_type": "code",
   "execution_count": 29,
   "metadata": {},
   "outputs": [],
   "source": [
    "gdf_3.to_file('../shp/행정경계_202402/22대총선_선거구/22대총선_선거구_동/22대총선_선거구_부천시반영후', encoding = 'utf-8')"
   ]
  },
  {
   "cell_type": "code",
   "execution_count": null,
   "metadata": {},
   "outputs": [],
   "source": []
  }
 ],
 "metadata": {
  "kernelspec": {
   "display_name": "base",
   "language": "python",
   "name": "python3"
  },
  "language_info": {
   "codemirror_mode": {
    "name": "ipython",
    "version": 3
   },
   "file_extension": ".py",
   "mimetype": "text/x-python",
   "name": "python",
   "nbconvert_exporter": "python",
   "pygments_lexer": "ipython3",
   "version": "3.10.13"
  }
 },
 "nbformat": 4,
 "nbformat_minor": 2
}
